{
 "cells": [
  {
   "cell_type": "code",
   "execution_count": 1,
   "id": "5f783a54",
   "metadata": {},
   "outputs": [],
   "source": [
    "from pyspark.sql import SparkSession\n",
    "import numpy as np\n",
    "import pandas as pd\n",
    "import seaborn as sns\n",
    "from sklearn.model_selection import train_test_split\n",
    "from sklearn import svm\n",
    "from sklearn.metrics import accuracy_score\n",
    "from sklearn.preprocessing import LabelEncoder\n",
    "import pickle"
   ]
  },
  {
   "cell_type": "code",
   "execution_count": 2,
   "id": "58b18e6b",
   "metadata": {},
   "outputs": [],
   "source": [
    "spark = SparkSession.builder.getOrCreate()\n",
    "\n",
    "data_path1=\"C:/Users/appal/Downloads/archive (2)/accepted_2007_to_2018q4.csv/\"\n",
    "data_path2=\"C:/Users/appal/Downloads/archive (2)/rejected_2007_to_2018q4.csv/\"\n",
    "\n",
    "file_path1=data_path1+\"FINAL_DATA_FRAME12.csv\"\n",
    "dataframe1=spark.read.format(\"csv\").option(\"header\",\"true\").load(file_path1)\n",
    "file_path2=data_path2+\"Final_Data_Frame12.csv\"\n",
    "dataframe2=spark.read.format(\"csv\").option(\"header\",\"true\").load(file_path2)"
   ]
  },
  {
   "cell_type": "code",
   "execution_count": 153,
   "id": "5faeacb7",
   "metadata": {},
   "outputs": [],
   "source": [
    "pandas_DF1 = dataframe1.toPandas()\n",
    "pandas_DF2 = dataframe2.toPandas()"
   ]
  },
  {
   "cell_type": "code",
   "execution_count": 154,
   "id": "60ecd98e",
   "metadata": {},
   "outputs": [],
   "source": [
    "pandas_DF1 = pandas_DF1.dropna()\n",
    "pandas_DF2 = pandas_DF2.dropna()"
   ]
  },
  {
   "cell_type": "code",
   "execution_count": 155,
   "id": "012a38b5",
   "metadata": {},
   "outputs": [],
   "source": [
    "pandas_DF = pd.concat([pandas_DF1,pandas_DF2])"
   ]
  },
  {
   "cell_type": "code",
   "execution_count": 156,
   "id": "64db2a9c",
   "metadata": {},
   "outputs": [],
   "source": [
    "from sklearn.preprocessing import LabelEncoder\n",
    "category= ['loan_grade','Employee_Title','Employee_length','Home_Ownership_Status','Employee_Verification_Status','Loan_Purpose','Loan_Title','Province_Code','Loan_Application_Type','Loan_Status','Bank_Name','Gender','Married_Status'] \n",
    "le = LabelEncoder()\n",
    "for i in category:   \n",
    "    pandas_DF[i] = le.fit_transform(pandas_DF[i])"
   ]
  },
  {
   "cell_type": "code",
   "execution_count": 157,
   "id": "f0c13abd",
   "metadata": {},
   "outputs": [],
   "source": [
    "X = pandas_DF.drop(columns=['Loan_Status','loan_id','interest_rate','installment','Total_Payment'],axis=1)\n",
    "Y = pandas_DF['Loan_Status']"
   ]
  },
  {
   "cell_type": "code",
   "execution_count": 158,
   "id": "62894eaa",
   "metadata": {},
   "outputs": [],
   "source": [
    "X_train, X_test,Y_train,Y_test = train_test_split(X,Y,test_size=0.3,random_state=42)"
   ]
  },
  {
   "cell_type": "code",
   "execution_count": 159,
   "id": "c2995a9b",
   "metadata": {},
   "outputs": [],
   "source": [
    "classifier = svm.SVC(kernel='linear')"
   ]
  },
  {
   "cell_type": "code",
   "execution_count": 160,
   "id": "487a656e",
   "metadata": {},
   "outputs": [],
   "source": [
    "classifier = classifier.fit(X_train,Y_train)"
   ]
  },
  {
   "cell_type": "code",
   "execution_count": 161,
   "id": "1b83c425",
   "metadata": {},
   "outputs": [],
   "source": [
    "X_train_prediction = classifier.predict(X_test)"
   ]
  },
  {
   "cell_type": "code",
   "execution_count": 162,
   "id": "76b963ad",
   "metadata": {},
   "outputs": [
    {
     "data": {
      "text/plain": [
       "array([1, 0, 0, ..., 1, 0, 0])"
      ]
     },
     "execution_count": 162,
     "metadata": {},
     "output_type": "execute_result"
    }
   ],
   "source": [
    "X_train_prediction"
   ]
  },
  {
   "cell_type": "code",
   "execution_count": 163,
   "id": "2d419c38",
   "metadata": {},
   "outputs": [],
   "source": [
    "import pickle\n",
    "# now you can save it to a file\n",
    "file = 'C:/Users/appal/OneDrive/Documents/ADT Web App/ML_Model1.pkl'\n",
    "with open(file, 'wb') as f:\n",
    "    pickle.dump(classifier, f)"
   ]
  },
  {
   "cell_type": "code",
   "execution_count": 164,
   "id": "aa31f9d5",
   "metadata": {},
   "outputs": [],
   "source": [
    "with open(file, 'rb') as f:\n",
    "    k = pickle.load(f)"
   ]
  },
  {
   "cell_type": "code",
   "execution_count": 165,
   "id": "6bc85b15",
   "metadata": {},
   "outputs": [],
   "source": [
    "cy = k.predict(X_test)"
   ]
  },
  {
   "cell_type": "code",
   "execution_count": 166,
   "id": "a680d882",
   "metadata": {},
   "outputs": [
    {
     "data": {
      "text/plain": [
       "array([1, 0, 0, ..., 1, 0, 0])"
      ]
     },
     "execution_count": 166,
     "metadata": {},
     "output_type": "execute_result"
    }
   ],
   "source": [
    "cy"
   ]
  },
  {
   "cell_type": "code",
   "execution_count": 167,
   "id": "b9522341",
   "metadata": {},
   "outputs": [
    {
     "data": {
      "text/html": [
       "<div>\n",
       "<style scoped>\n",
       "    .dataframe tbody tr th:only-of-type {\n",
       "        vertical-align: middle;\n",
       "    }\n",
       "\n",
       "    .dataframe tbody tr th {\n",
       "        vertical-align: top;\n",
       "    }\n",
       "\n",
       "    .dataframe thead th {\n",
       "        text-align: right;\n",
       "    }\n",
       "</style>\n",
       "<table border=\"1\" class=\"dataframe\">\n",
       "  <thead>\n",
       "    <tr style=\"text-align: right;\">\n",
       "      <th></th>\n",
       "      <th>loan_amnt</th>\n",
       "      <th>loan_term</th>\n",
       "      <th>loan_grade</th>\n",
       "      <th>Employee_Title</th>\n",
       "      <th>Employee_length</th>\n",
       "      <th>Home_Ownership_Status</th>\n",
       "      <th>Annual_Income</th>\n",
       "      <th>Employee_Verification_Status</th>\n",
       "      <th>Loan_Purpose</th>\n",
       "      <th>Loan_Title</th>\n",
       "      <th>Province_Code</th>\n",
       "      <th>Loan_Application_Type</th>\n",
       "      <th>Bank_Name</th>\n",
       "      <th>Gender</th>\n",
       "      <th>Married_Status</th>\n",
       "      <th>Credit_Score</th>\n",
       "    </tr>\n",
       "  </thead>\n",
       "  <tbody>\n",
       "    <tr>\n",
       "      <th>4352</th>\n",
       "      <td>35000</td>\n",
       "      <td>36</td>\n",
       "      <td>1</td>\n",
       "      <td>3708</td>\n",
       "      <td>0</td>\n",
       "      <td>2</td>\n",
       "      <td>48000</td>\n",
       "      <td>1</td>\n",
       "      <td>2</td>\n",
       "      <td>3</td>\n",
       "      <td>8</td>\n",
       "      <td>1</td>\n",
       "      <td>5</td>\n",
       "      <td>2</td>\n",
       "      <td>0</td>\n",
       "      <td>669</td>\n",
       "    </tr>\n",
       "    <tr>\n",
       "      <th>140</th>\n",
       "      <td>35000</td>\n",
       "      <td>60</td>\n",
       "      <td>1</td>\n",
       "      <td>2814</td>\n",
       "      <td>1</td>\n",
       "      <td>0</td>\n",
       "      <td>140000</td>\n",
       "      <td>2</td>\n",
       "      <td>1</td>\n",
       "      <td>2</td>\n",
       "      <td>2</td>\n",
       "      <td>0</td>\n",
       "      <td>2</td>\n",
       "      <td>0</td>\n",
       "      <td>1</td>\n",
       "      <td>774</td>\n",
       "    </tr>\n",
       "    <tr>\n",
       "      <th>3786</th>\n",
       "      <td>12000</td>\n",
       "      <td>60</td>\n",
       "      <td>2</td>\n",
       "      <td>2944</td>\n",
       "      <td>1</td>\n",
       "      <td>2</td>\n",
       "      <td>55000</td>\n",
       "      <td>0</td>\n",
       "      <td>2</td>\n",
       "      <td>3</td>\n",
       "      <td>4</td>\n",
       "      <td>0</td>\n",
       "      <td>4</td>\n",
       "      <td>0</td>\n",
       "      <td>0</td>\n",
       "      <td>800</td>\n",
       "    </tr>\n",
       "    <tr>\n",
       "      <th>4765</th>\n",
       "      <td>17925</td>\n",
       "      <td>36</td>\n",
       "      <td>4</td>\n",
       "      <td>3531</td>\n",
       "      <td>0</td>\n",
       "      <td>2</td>\n",
       "      <td>70000</td>\n",
       "      <td>2</td>\n",
       "      <td>2</td>\n",
       "      <td>3</td>\n",
       "      <td>11</td>\n",
       "      <td>0</td>\n",
       "      <td>2</td>\n",
       "      <td>0</td>\n",
       "      <td>1</td>\n",
       "      <td>616</td>\n",
       "    </tr>\n",
       "    <tr>\n",
       "      <th>3343</th>\n",
       "      <td>2800</td>\n",
       "      <td>36</td>\n",
       "      <td>2</td>\n",
       "      <td>2002</td>\n",
       "      <td>3</td>\n",
       "      <td>2</td>\n",
       "      <td>71000</td>\n",
       "      <td>1</td>\n",
       "      <td>2</td>\n",
       "      <td>3</td>\n",
       "      <td>0</td>\n",
       "      <td>0</td>\n",
       "      <td>8</td>\n",
       "      <td>0</td>\n",
       "      <td>0</td>\n",
       "      <td>768</td>\n",
       "    </tr>\n",
       "    <tr>\n",
       "      <th>...</th>\n",
       "      <td>...</td>\n",
       "      <td>...</td>\n",
       "      <td>...</td>\n",
       "      <td>...</td>\n",
       "      <td>...</td>\n",
       "      <td>...</td>\n",
       "      <td>...</td>\n",
       "      <td>...</td>\n",
       "      <td>...</td>\n",
       "      <td>...</td>\n",
       "      <td>...</td>\n",
       "      <td>...</td>\n",
       "      <td>...</td>\n",
       "      <td>...</td>\n",
       "      <td>...</td>\n",
       "      <td>...</td>\n",
       "    </tr>\n",
       "    <tr>\n",
       "      <th>1319</th>\n",
       "      <td>30000</td>\n",
       "      <td>36</td>\n",
       "      <td>2</td>\n",
       "      <td>1094</td>\n",
       "      <td>0</td>\n",
       "      <td>2</td>\n",
       "      <td>30000</td>\n",
       "      <td>1</td>\n",
       "      <td>2</td>\n",
       "      <td>3</td>\n",
       "      <td>4</td>\n",
       "      <td>0</td>\n",
       "      <td>4</td>\n",
       "      <td>2</td>\n",
       "      <td>0</td>\n",
       "      <td>646</td>\n",
       "    </tr>\n",
       "    <tr>\n",
       "      <th>4411</th>\n",
       "      <td>10000</td>\n",
       "      <td>36</td>\n",
       "      <td>0</td>\n",
       "      <td>2176</td>\n",
       "      <td>4</td>\n",
       "      <td>0</td>\n",
       "      <td>95000</td>\n",
       "      <td>1</td>\n",
       "      <td>2</td>\n",
       "      <td>3</td>\n",
       "      <td>9</td>\n",
       "      <td>0</td>\n",
       "      <td>1</td>\n",
       "      <td>0</td>\n",
       "      <td>1</td>\n",
       "      <td>742</td>\n",
       "    </tr>\n",
       "    <tr>\n",
       "      <th>635</th>\n",
       "      <td>10000</td>\n",
       "      <td>36</td>\n",
       "      <td>0</td>\n",
       "      <td>2672</td>\n",
       "      <td>0</td>\n",
       "      <td>0</td>\n",
       "      <td>51000</td>\n",
       "      <td>0</td>\n",
       "      <td>2</td>\n",
       "      <td>3</td>\n",
       "      <td>10</td>\n",
       "      <td>0</td>\n",
       "      <td>6</td>\n",
       "      <td>1</td>\n",
       "      <td>1</td>\n",
       "      <td>539</td>\n",
       "    </tr>\n",
       "    <tr>\n",
       "      <th>1218</th>\n",
       "      <td>10000</td>\n",
       "      <td>36</td>\n",
       "      <td>2</td>\n",
       "      <td>1941</td>\n",
       "      <td>5</td>\n",
       "      <td>0</td>\n",
       "      <td>102000</td>\n",
       "      <td>2</td>\n",
       "      <td>8</td>\n",
       "      <td>10</td>\n",
       "      <td>4</td>\n",
       "      <td>0</td>\n",
       "      <td>5</td>\n",
       "      <td>0</td>\n",
       "      <td>0</td>\n",
       "      <td>669</td>\n",
       "    </tr>\n",
       "    <tr>\n",
       "      <th>4266</th>\n",
       "      <td>20000</td>\n",
       "      <td>36</td>\n",
       "      <td>1</td>\n",
       "      <td>3708</td>\n",
       "      <td>1</td>\n",
       "      <td>0</td>\n",
       "      <td>160000</td>\n",
       "      <td>1</td>\n",
       "      <td>2</td>\n",
       "      <td>3</td>\n",
       "      <td>0</td>\n",
       "      <td>0</td>\n",
       "      <td>9</td>\n",
       "      <td>0</td>\n",
       "      <td>1</td>\n",
       "      <td>803</td>\n",
       "    </tr>\n",
       "  </tbody>\n",
       "</table>\n",
       "<p>2794 rows × 16 columns</p>\n",
       "</div>"
      ],
      "text/plain": [
       "     loan_amnt loan_term  loan_grade  Employee_Title  Employee_length  \\\n",
       "4352     35000        36           1            3708                0   \n",
       "140      35000        60           1            2814                1   \n",
       "3786     12000        60           2            2944                1   \n",
       "4765     17925        36           4            3531                0   \n",
       "3343      2800        36           2            2002                3   \n",
       "...        ...       ...         ...             ...              ...   \n",
       "1319     30000        36           2            1094                0   \n",
       "4411     10000        36           0            2176                4   \n",
       "635      10000        36           0            2672                0   \n",
       "1218     10000        36           2            1941                5   \n",
       "4266     20000        36           1            3708                1   \n",
       "\n",
       "      Home_Ownership_Status Annual_Income  Employee_Verification_Status  \\\n",
       "4352                      2         48000                             1   \n",
       "140                       0        140000                             2   \n",
       "3786                      2         55000                             0   \n",
       "4765                      2         70000                             2   \n",
       "3343                      2         71000                             1   \n",
       "...                     ...           ...                           ...   \n",
       "1319                      2         30000                             1   \n",
       "4411                      0         95000                             1   \n",
       "635                       0         51000                             0   \n",
       "1218                      0        102000                             2   \n",
       "4266                      0        160000                             1   \n",
       "\n",
       "      Loan_Purpose  Loan_Title  Province_Code  Loan_Application_Type  \\\n",
       "4352             2           3              8                      1   \n",
       "140              1           2              2                      0   \n",
       "3786             2           3              4                      0   \n",
       "4765             2           3             11                      0   \n",
       "3343             2           3              0                      0   \n",
       "...            ...         ...            ...                    ...   \n",
       "1319             2           3              4                      0   \n",
       "4411             2           3              9                      0   \n",
       "635              2           3             10                      0   \n",
       "1218             8          10              4                      0   \n",
       "4266             2           3              0                      0   \n",
       "\n",
       "      Bank_Name  Gender  Married_Status Credit_Score  \n",
       "4352          5       2               0          669  \n",
       "140           2       0               1          774  \n",
       "3786          4       0               0          800  \n",
       "4765          2       0               1          616  \n",
       "3343          8       0               0          768  \n",
       "...         ...     ...             ...          ...  \n",
       "1319          4       2               0          646  \n",
       "4411          1       0               1          742  \n",
       "635           6       1               1          539  \n",
       "1218          5       0               0          669  \n",
       "4266          9       0               1          803  \n",
       "\n",
       "[2794 rows x 16 columns]"
      ]
     },
     "execution_count": 167,
     "metadata": {},
     "output_type": "execute_result"
    }
   ],
   "source": [
    "X_test"
   ]
  },
  {
   "cell_type": "code",
   "execution_count": 168,
   "id": "d9b2d684",
   "metadata": {},
   "outputs": [
    {
     "data": {
      "text/plain": [
       "<bound method Series.count of 0       0\n",
       "1       0\n",
       "3       0\n",
       "4       0\n",
       "5       0\n",
       "       ..\n",
       "5092    1\n",
       "5093    1\n",
       "5095    1\n",
       "5096    1\n",
       "5097    1\n",
       "Name: Loan_Status, Length: 9311, dtype: int32>"
      ]
     },
     "execution_count": 168,
     "metadata": {},
     "output_type": "execute_result"
    }
   ],
   "source": [
    "pandas_DF['Loan_Status'].count"
   ]
  },
  {
   "cell_type": "code",
   "execution_count": 123,
   "id": "1468450f",
   "metadata": {},
   "outputs": [],
   "source": [
    "import matplotlib.pyplot as plt"
   ]
  },
  {
   "cell_type": "code",
   "execution_count": 125,
   "id": "4fdaa83f",
   "metadata": {},
   "outputs": [
    {
     "data": {
      "text/plain": [
       "<BarContainer object of 4708 artists>"
      ]
     },
     "execution_count": 125,
     "metadata": {},
     "output_type": "execute_result"
    },
    {
     "data": {
      "image/png": "[encoded data removed]",
      "text/plain": [
       "<Figure size 432x288 with 1 Axes>"
      ]
     },
     "metadata": {
      "needs_background": "light"
     },
     "output_type": "display_data"
    }
   ],
   "source": [
    "plt.bar(pandas_DF1['Bank_Name'], pandas_DF1['Loan_Status'])"
   ]
  },
  {
   "cell_type": "code",
   "execution_count": 169,
   "id": "66351efb",
   "metadata": {},
   "outputs": [],
   "source": [
    "pandas_DF3= pd.concat([pandas_DF1,pandas_DF2])"
   ]
  },
  {
   "cell_type": "code",
   "execution_count": 170,
   "id": "37d8da60",
   "metadata": {},
   "outputs": [],
   "source": [
    "import seaborn as sns"
   ]
  },
  {
   "cell_type": "code",
   "execution_count": 172,
   "id": "3f97f695",
   "metadata": {},
   "outputs": [
    {
     "data": {
      "text/plain": [
       "<AxesSubplot:xlabel='Gender', ylabel='count'>"
      ]
     },
     "execution_count": 172,
     "metadata": {},
     "output_type": "execute_result"
    },
    {
     "data": {
      "image/png": "[encoded data removed]",
      "text/plain": [
       "<Figure size 432x288 with 1 Axes>"
      ]
     },
     "metadata": {
      "needs_background": "light"
     },
     "output_type": "display_data"
    }
   ],
   "source": [
    "sns.countplot(x='Gender',hue='Loan_Status',data=pandas_DF3)"
   ]
  },
  {
   "cell_type": "code",
   "execution_count": 173,
   "id": "ba831599",
   "metadata": {},
   "outputs": [
    {
     "data": {
      "text/plain": [
       "<AxesSubplot:xlabel='Married_Status', ylabel='count'>"
      ]
     },
     "execution_count": 173,
     "metadata": {},
     "output_type": "execute_result"
    },
    {
     "data": {
      "image/png": "[encoded data removed]",
      "text/plain": [
       "<Figure size 432x288 with 1 Axes>"
      ]
     },
     "metadata": {
      "needs_background": "light"
     },
     "output_type": "display_data"
    }
   ],
   "source": [
    "sns.countplot(x='Married_Status',hue='Loan_Status',data=pandas_DF3)"
   ]
  },
  {
   "cell_type": "code",
   "execution_count": 174,
   "id": "bd2361a8",
   "metadata": {},
   "outputs": [
    {
     "data": {
      "text/plain": [
       "<AxesSubplot:xlabel='Home_Ownership_Status', ylabel='count'>"
      ]
     },
     "execution_count": 174,
     "metadata": {},
     "output_type": "execute_result"
    },
    {
     "data": {
      "image/png": "[encoded data removed]",
      "text/plain": [
       "<Figure size 432x288 with 1 Axes>"
      ]
     },
     "metadata": {
      "needs_background": "light"
     },
     "output_type": "display_data"
    }
   ],
   "source": [
    "sns.countplot(x='Home_Ownership_Status',hue='Loan_Status',data=pandas_DF3)"
   ]
  },
  {
   "cell_type": "code",
   "execution_count": 175,
   "id": "bd0cbcdb",
   "metadata": {
    "scrolled": true
   },
   "outputs": [
    {
     "data": {
      "text/plain": [
       "<AxesSubplot:xlabel='Employee_Verification_Status', ylabel='count'>"
      ]
     },
     "execution_count": 175,
     "metadata": {},
     "output_type": "execute_result"
    },
    {
     "data": {
      "image/png": "[encoded data removed]",
      "text/plain": [
       "<Figure size 432x288 with 1 Axes>"
      ]
     },
     "metadata": {
      "needs_background": "light"
     },
     "output_type": "display_data"
    }
   ],
   "source": [
    "sns.countplot(x='Employee_Verification_Status',hue='Loan_Status',data=pandas_DF3)"
   ]
  },
  {
   "cell_type": "code",
   "execution_count": 176,
   "id": "163de494",
   "metadata": {},
   "outputs": [
    {
     "data": {
      "text/plain": [
       "<AxesSubplot:xlabel='Bank_Name', ylabel='Employee_Title'>"
      ]
     },
     "execution_count": 176,
     "metadata": {},
     "output_type": "execute_result"
    },
    {
     "data": {
      "image/png": "[encoded data removed]",
      "text/plain": [
       "<Figure size 432x288 with 1 Axes>"
      ]
     },
     "metadata": {
      "needs_background": "light"
     },
     "output_type": "display_data"
    }
   ],
   "source": [
    "sns.stripplot(data=pandas_DF3, x=\"Bank_Name\", y=\"Employee_Title\", hue=\"Loan_Status\")"
   ]
  },
  {
   "cell_type": "code",
   "execution_count": 182,
   "id": "bffc4065",
   "metadata": {},
   "outputs": [],
   "source": [
    "pandas_DF4 = pandas_DF3[pandas_DF3.Bank_Name == 'CIBC']"
   ]
  },
  {
   "cell_type": "code",
   "execution_count": 188,
   "id": "9667ac5b",
   "metadata": {},
   "outputs": [
    {
     "data": {
      "text/plain": [
       "<AxesSubplot:xlabel='Loan_Purpose', ylabel='count'>"
      ]
     },
     "execution_count": 188,
     "metadata": {},
     "output_type": "execute_result"
    },
    {
     "data": {
      "image/png": "[encoded data removed]",
      "text/plain": [
       "<Figure size 432x288 with 1 Axes>"
      ]
     },
     "metadata": {
      "needs_background": "light"
     },
     "output_type": "display_data"
    }
   ],
   "source": [
    "sns.countplot(x='Loan_Purpose',hue='Loan_Status',data=pandas_DF4)"
   ]
  },
  {
   "cell_type": "code",
   "execution_count": 193,
   "id": "826854ab",
   "metadata": {},
   "outputs": [
    {
     "data": {
      "text/plain": [
       "1    Veterinary Tecnician\n",
       "Name: Employee_Title, dtype: object"
      ]
     },
     "execution_count": 193,
     "metadata": {},
     "output_type": "execute_result"
    }
   ],
   "source": [
    "pandas_DF4.query(\"loan_id == '68426831'\")[\"Employee_Title\"]"
   ]
  },
  {
   "cell_type": "code",
   "execution_count": 192,
   "id": "be9c6a4b",
   "metadata": {},
   "outputs": [
    {
     "data": {
      "text/html": [
       "<div>\n",
       "<style scoped>\n",
       "    .dataframe tbody tr th:only-of-type {\n",
       "        vertical-align: middle;\n",
       "    }\n",
       "\n",
       "    .dataframe tbody tr th {\n",
       "        vertical-align: top;\n",
       "    }\n",
       "\n",
       "    .dataframe thead th {\n",
       "        text-align: right;\n",
       "    }\n",
       "</style>\n",
       "<table border=\"1\" class=\"dataframe\">\n",
       "  <thead>\n",
       "    <tr style=\"text-align: right;\">\n",
       "      <th></th>\n",
       "      <th>loan_id</th>\n",
       "      <th>loan_amnt</th>\n",
       "      <th>loan_term</th>\n",
       "      <th>interest_rate</th>\n",
       "      <th>installment</th>\n",
       "      <th>loan_grade</th>\n",
       "      <th>Employee_Title</th>\n",
       "      <th>Employee_length</th>\n",
       "      <th>Home_Ownership_Status</th>\n",
       "      <th>Annual_Income</th>\n",
       "      <th>...</th>\n",
       "      <th>Loan_Purpose</th>\n",
       "      <th>Loan_Title</th>\n",
       "      <th>Province_Code</th>\n",
       "      <th>Total_Payment</th>\n",
       "      <th>Loan_Application_Type</th>\n",
       "      <th>Loan_Status</th>\n",
       "      <th>Bank_Name</th>\n",
       "      <th>Gender</th>\n",
       "      <th>Married_Status</th>\n",
       "      <th>Credit_Score</th>\n",
       "    </tr>\n",
       "  </thead>\n",
       "  <tbody>\n",
       "    <tr>\n",
       "      <th>1</th>\n",
       "      <td>68426831</td>\n",
       "      <td>11950</td>\n",
       "      <td>36</td>\n",
       "      <td>13.44</td>\n",
       "      <td>405.18</td>\n",
       "      <td>C</td>\n",
       "      <td>Veterinary Tecnician</td>\n",
       "      <td>4</td>\n",
       "      <td>RENT</td>\n",
       "      <td>34000</td>\n",
       "      <td>...</td>\n",
       "      <td>debt_consolidation</td>\n",
       "      <td>Debt consolidation</td>\n",
       "      <td>YT</td>\n",
       "      <td>13708.95</td>\n",
       "      <td>Individual</td>\n",
       "      <td>accepted</td>\n",
       "      <td>CIBC</td>\n",
       "      <td>Female</td>\n",
       "      <td>Yes</td>\n",
       "      <td>719</td>\n",
       "    </tr>\n",
       "    <tr>\n",
       "      <th>7</th>\n",
       "      <td>68495092</td>\n",
       "      <td>8650</td>\n",
       "      <td>36</td>\n",
       "      <td>19.89</td>\n",
       "      <td>320.99</td>\n",
       "      <td>E</td>\n",
       "      <td>Program Coordinator</td>\n",
       "      <td>8</td>\n",
       "      <td>RENT</td>\n",
       "      <td>55000</td>\n",
       "      <td>...</td>\n",
       "      <td>debt_consolidation</td>\n",
       "      <td>Debt consolidation</td>\n",
       "      <td>PE</td>\n",
       "      <td>9190.49</td>\n",
       "      <td>Individual</td>\n",
       "      <td>accepted</td>\n",
       "      <td>CIBC</td>\n",
       "      <td>Female</td>\n",
       "      <td>Yes</td>\n",
       "      <td>669</td>\n",
       "    </tr>\n",
       "    <tr>\n",
       "      <th>16</th>\n",
       "      <td>66796130</td>\n",
       "      <td>8800</td>\n",
       "      <td>36</td>\n",
       "      <td>9.8</td>\n",
       "      <td>283.13</td>\n",
       "      <td>B</td>\n",
       "      <td>Sales Representative/ Agent</td>\n",
       "      <td>10</td>\n",
       "      <td>MORTGAGE</td>\n",
       "      <td>92000</td>\n",
       "      <td>...</td>\n",
       "      <td>credit_card</td>\n",
       "      <td>Credit card refinancing</td>\n",
       "      <td>ON</td>\n",
       "      <td>9852.88</td>\n",
       "      <td>Individual</td>\n",
       "      <td>accepted</td>\n",
       "      <td>CIBC</td>\n",
       "      <td>Female</td>\n",
       "      <td>Yes</td>\n",
       "      <td>784</td>\n",
       "    </tr>\n",
       "    <tr>\n",
       "      <th>20</th>\n",
       "      <td>68367009</td>\n",
       "      <td>14025</td>\n",
       "      <td>60</td>\n",
       "      <td>18.49</td>\n",
       "      <td>359.9</td>\n",
       "      <td>D</td>\n",
       "      <td>accts payable</td>\n",
       "      <td>10</td>\n",
       "      <td>MORTGAGE</td>\n",
       "      <td>39000</td>\n",
       "      <td>...</td>\n",
       "      <td>debt_consolidation</td>\n",
       "      <td>Debt consolidation</td>\n",
       "      <td>SK</td>\n",
       "      <td>16341.39</td>\n",
       "      <td>Individual</td>\n",
       "      <td>accepted</td>\n",
       "      <td>CIBC</td>\n",
       "      <td>Female</td>\n",
       "      <td>Yes</td>\n",
       "      <td>678</td>\n",
       "    </tr>\n",
       "    <tr>\n",
       "      <th>24</th>\n",
       "      <td>68394562</td>\n",
       "      <td>30000</td>\n",
       "      <td>36</td>\n",
       "      <td>15.77</td>\n",
       "      <td>1051.31</td>\n",
       "      <td>D</td>\n",
       "      <td>Vice-President</td>\n",
       "      <td>2</td>\n",
       "      <td>MORTGAGE</td>\n",
       "      <td>175000</td>\n",
       "      <td>...</td>\n",
       "      <td>home_improvement</td>\n",
       "      <td>Home improvement</td>\n",
       "      <td>AB</td>\n",
       "      <td>33903.77</td>\n",
       "      <td>Individual</td>\n",
       "      <td>accepted</td>\n",
       "      <td>CIBC</td>\n",
       "      <td>Female</td>\n",
       "      <td>Yes</td>\n",
       "      <td>739</td>\n",
       "    </tr>\n",
       "  </tbody>\n",
       "</table>\n",
       "<p>5 rows × 21 columns</p>\n",
       "</div>"
      ],
      "text/plain": [
       "     loan_id loan_amnt loan_term interest_rate installment loan_grade  \\\n",
       "1   68426831     11950        36         13.44      405.18          C   \n",
       "7   68495092      8650        36         19.89      320.99          E   \n",
       "16  66796130      8800        36           9.8      283.13          B   \n",
       "20  68367009     14025        60         18.49       359.9          D   \n",
       "24  68394562     30000        36         15.77     1051.31          D   \n",
       "\n",
       "                 Employee_Title Employee_length Home_Ownership_Status  \\\n",
       "1          Veterinary Tecnician               4                  RENT   \n",
       "7          Program Coordinator                8                  RENT   \n",
       "16  Sales Representative/ Agent              10              MORTGAGE   \n",
       "20                accts payable              10              MORTGAGE   \n",
       "24               Vice-President               2              MORTGAGE   \n",
       "\n",
       "   Annual_Income  ...        Loan_Purpose               Loan_Title  \\\n",
       "1          34000  ...  debt_consolidation       Debt consolidation   \n",
       "7          55000  ...  debt_consolidation       Debt consolidation   \n",
       "16         92000  ...         credit_card  Credit card refinancing   \n",
       "20         39000  ...  debt_consolidation       Debt consolidation   \n",
       "24        175000  ...    home_improvement         Home improvement   \n",
       "\n",
       "   Province_Code Total_Payment Loan_Application_Type Loan_Status Bank_Name  \\\n",
       "1             YT      13708.95            Individual    accepted      CIBC   \n",
       "7             PE       9190.49            Individual    accepted      CIBC   \n",
       "16            ON       9852.88            Individual    accepted      CIBC   \n",
       "20            SK      16341.39            Individual    accepted      CIBC   \n",
       "24            AB      33903.77            Individual    accepted      CIBC   \n",
       "\n",
       "    Gender Married_Status Credit_Score  \n",
       "1   Female            Yes          719  \n",
       "7   Female            Yes          669  \n",
       "16  Female            Yes          784  \n",
       "20  Female            Yes          678  \n",
       "24  Female            Yes          739  \n",
       "\n",
       "[5 rows x 21 columns]"
      ]
     },
     "execution_count": 192,
     "metadata": {},
     "output_type": "execute_result"
    }
   ],
   "source": [
    "pandas_DF4.head()"
   ]
  },
  {
   "cell_type": "code",
   "execution_count": null,
   "id": "63f7439b",
   "metadata": {},
   "outputs": [],
   "source": []
  }
 ],
 "metadata": {
  "kernelspec": {
   "display_name": "Python 3 (ipykernel)",
   "language": "python",
   "name": "python3"
  },
  "language_info": {
   "codemirror_mode": {
    "name": "ipython",
    "version": 3
   },
   "file_extension": ".py",
   "mimetype": "text/x-python",
   "name": "python",
   "nbconvert_exporter": "python",
   "pygments_lexer": "ipython3",
   "version": "3.9.7"
  }
 },
 "nbformat": 4,
 "nbformat_minor": 5
}
